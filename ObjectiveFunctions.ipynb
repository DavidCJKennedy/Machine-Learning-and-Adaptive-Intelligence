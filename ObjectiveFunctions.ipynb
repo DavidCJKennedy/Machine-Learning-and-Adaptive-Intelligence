{
 "cells": [
  {
   "cell_type": "markdown",
   "metadata": {},
   "source": [
    "# Objective Functions: A Simple Example with Matrix Factorisation.\n",
    "\n",
    "### 6th October 2015 Neil D. Lawrence\n",
    "\n",
    "### Modified by Mauricio A Álvarez, 1st October 2018\n",
    "\n",
    "In last week's class we saw how we could load in a data set to pandas and use it for some simple data processing. We computed various probabilities on the data and I encouraged you to think about what sort of probabilities you need for prediction. This week we are going to take a slightly different tack. \n",
    "\n",
    "Broadly speaking there are two dominating approaches to machine learning problems. We started to consider the first approach last week: constructing models based on defining the relationship between variables using probabilities. This week we will consider the second approach: which involves defining an *objective function* and optimizing it. \n",
    "\n",
    "What do we mean by an objective function? An objective function could be an *error function*, a *cost function* or a *benefit* function. In evolutionary computing they are called *fitness* functions. But the idea is always the same. We write down a mathematical equation which is then optimized to do the learning. The equation should be a function of the *data* and our model *parameters*. We have a choice when optimizing, either minimize or maximize. To avoid confusion, in the optimization field, we always choose to minimize the function. If we have a function that we would like to maximize, we simply choose to minimize the negative of that function. \n",
    "\n",
    "So for this lab session, we are going to ignore probabilities, but don't worry, they will return! \n",
    "\n",
    "This week we are going to try and build a simple movie recommender system using an objective function. To do this, the first thing I'd like you to do is to install some software we've written for sharing information across google documents.\n",
    "\n",
    "## Open Data Science Software\n",
    "\n",
    "In Sheffield we have written a suite of software tools for 'Open Data Science'. Open data science is an approach to sharing code, models and data that should make it easier for companies, health professionals and scientists to gain access to data science techniques. For some background on open data science you can read [this blog post](http://inverseprobability.com/2014/07/01/open-data-science/). The first thing we will do this week is to download that suite of software. \n",
    "\n",
    "The software can be installed using\n",
    "\n",
    "```python\n",
    "pip install pods\n",
    "```\n",
    "\n",
    "from the command prompt where you can access your python installation.\n",
    "\n",
    "\n",
    "## Download the MovieLens 100k Data\n",
    "\n",
    "We are going to download the [MovieLens 100k](http://files.grouplens.org/datasets/movielens/ml-latest-small-README.html) Data. This is a public dataset that contains 100,000 ratings and 3,600 tag applications applied to 9,000 movies by 600 users. When you use a data set that someone has prepared you should always reference the data source to acknowledge the work that's been placed in. This particular dataset was collected by the [Grouplens Research group](https://grouplens.org/),  at the University of Minnesota. For example, if you were to use this dataset for writing a paper, the authors ask you that you acknowledge their work by citing the following paper:\n",
    "\n",
    "F. Maxwell Harper and Joseph A. Konstan. 2015. The MovieLens Datasets: History and Context. ACM Transactions on Interactive Intelligent Systems (TiiS) 5 (4):1-19 [https://doi.org/10.1145/2827872](https://doi.org/10.1145/2827872)"
   ]
  },
  {
   "cell_type": "code",
   "execution_count": 2,
   "metadata": {},
   "outputs": [
    {
     "name": "stdout",
     "output_type": "stream",
     "text": [
      "Downloading  http://files.grouplens.org/datasets/movielens/ml-latest-small.zip -> .\\ml-latest-small.zip\n",
      "[==============================]   0.933/0.933MB                                                                                                                                                                                                                                                                                                                                                                                                                                                                                                                                                                                                                                                                                                                                                                                                                                                                                                                                                                                                                                                                                                                                                                                                                                                                                                                                                                                                                                                                                                                                                                                                                                                                                                                                                                                                                                                                                                                                                                                                                                                                                                                                                                                                                                                                                                                                                                                                                                                                                                                                                                                                                                                                                                                                                                                                                                                                                                                                                                                                                                                                                                                                                                                                                                                                                                                                                                                                                                                                                                                                                                                                                                                                                                                                                                                                                                                                                                                                                                                                                                                                                                                                                                                                                                                                                                                                                                                                                                                                                                                                                                                                                                                                                                                                                                                                                                                                                                                                                                                                                                                                                                                                                                                                                                                                                                                                                                                                                                                                                                                                                                                                                                                                                                                                                                                                                                                                                                                                                                                                \n"
     ]
    }
   ],
   "source": [
    "import pods\n",
    "import zipfile\n",
    "import sys\n",
    "import pandas as pd\n",
    "import numpy as np\n",
    "\n",
    "pods.util.download_url(\"http://files.grouplens.org/datasets/movielens/ml-latest-small.zip\")\n",
    "zip_console = zipfile.ZipFile('ml-latest-small.zip', 'r')\n",
    "for name in zip_console.namelist():\n",
    "           zip_console.extract(name, './')"
   ]
  },
  {
   "cell_type": "markdown",
   "metadata": {},
   "source": [
    "### Assignment Question 1\n",
    "\n",
    "Data ethics. If you find data available on the internet, can you simply use it without consequence? If you are given data by a fellow researcher can you publish that data on line? \n",
    "\n",
    "*5 marks*"
   ]
  },
  {
   "cell_type": "markdown",
   "metadata": {},
   "source": [
    "#### Question 1 Answer\n",
    "\n",
    "If suitable data is found on the internet that is credible and reliable then it is possible that this data could be used. Datasets are labelled with various licenses, for example an Open Database License (ODbL) allows the user to freely share, modify and use a database; whereas companies or organisations may attach specific licenses that include further conditions that prohibit the use of data in specific ways, for example the data may only be used for non-profit or academic purposes. (1) \n",
    "\n",
    "However; if this data is used or published in the public domain then seven key framework principles are required before the data can be used and published. The frameworks are required to ensure that data is being used with a clear public benefit and that the minimum amount of data is used to achieve aims. The minimum amount of data should be used as afterall the data being used relates to the public and it is in the publics best interest to keep data private. (2)\n",
    "\n",
    "If a fellow researcher supplies you with data then you must reference them and any further locations as to where the data has been sourced from; both yourself and the fellow researcher must still comply to the data ethics frameworks and any conditions linked to the data. \n",
    "\n",
    "1 - OpenData Commons, https://opendatacommons.org/licenses/odbl/. Accessed 10/10/2018\n",
    "2 - Dpt of Digital, Culture, Media and Sport, https://www.gov.uk/government/publications/data-ethics-framework/data-ethics-framework. Accessed 10/10/2018"
   ]
  },
  {
   "cell_type": "markdown",
   "metadata": {},
   "source": [
    "## Recommender Systems\n",
    "\n",
    "A recommender system aims to make suggestions for items (films, books, other commercial products) given what it knows about users' tastes. The recommendation engine needs to represent the *taste* of all the users and the *characteristics* of each object. \n",
    "\n",
    "A common way for organizing objects is to place related objects spatially close together. For example in a library we try and put books that are on related topics near to each other on the shelves. One system for doing this is known as [Dewey Decimal Classification](http://en.wikipedia.org/wiki/Dewey_Decimal_Classification). In the Dewey Decimal Classification system (which dates from 1876) each subject is given a number (in fact it's a decimal number). For example, the field of Natural Sciences and Mathematics is given numbers which start with 500. Subjects based on Computer Science are given numbers which start 004 and works on the 'mathematical principles' of Computer science are given the series 004.0151 (which we might store as 4.0151 on a Computer). Whilst it's a classification system, the books in the library are typically laid out in the same order as the numbers, so we might expect that neighbouring numbers represent books that are related in subject. That seems to be exactly what we want when also representing films. Could we somehow represent each film's subject according to a number? In a similar way we could then imagine representing users with a list of numbers that represent things that each user is interested in.\n",
    "\n",
    "Actually a one dimensional representation of a subject can be very awkward. To see this, let's have a look at the Dewey Decimal Classification numbers for the 900s, which is listed as 'History and Geography'. We will focus on subjects in the 940s which can be found in this list from [Wikipedia](https://en.wikipedia.org/wiki/List_of_Dewey_Decimal_classes#Class_900_%E2%80%93_History_&_geography). Whilst the ordering for places is somewhat sensible, it is also rather arbitrary. In the 940s we have Europe listed from 940-949, Asia listed from 950-959 and Africa listed from 960-969. Whilst it's true that Asia borders Europe, Africa is also very close, and the history of the Roman Empire spreads into [Carthage](http://en.wikipedia.org/wiki/Carthage) and later on Egypt. This image from Wikipedia shows a map of the Cathaginian Empire which fell after fighting with Rome. \n",
    "\n",
    "\n",
    "<a title=\"By Javierfv1212 [Public domain], from Wikimedia Commons\" href=\"https://commons.wikimedia.org/wiki/File:Carthaginianempire.PNG\"><img width=\"512\" alt=\"Carthaginianempire\" src=\"https://upload.wikimedia.org/wikipedia/commons/thumb/9/9b/Carthaginianempire.PNG/512px-Carthaginianempire.PNG\"></a>\n",
    "\n",
    "We now need to make a decision about whether Roman Histories are European or African, ideally we'd like them to be somewhere between the two, but we can't place them there in the Dewey Decimal system because between Europe and Africa is Asia, which has less to do with the Roman Empire than either Europe or Africa. Of course the fact that we've used a map provides a clue as to what to do next. Libraries are actually laid out on floors, so what if we were to use the spatial lay out to organise the sujbects of the books in two dimensions. Books on Geography could be laid out according to where in the world they are referring to. \n",
    "\n",
    "Such complexities are very hard to encapsulate in one number, but inspired by the map examples we can start considering how we might lay out films in two dimensions. Similarly, we can consider laying out a map of people's interests. If the two maps correspond to one another, the map of people could reflect where they might want to live in 'subject space'. We can think of representing people's tastes as where they might best like to sit in the library to access easily the books they are most interested in.\n",
    "\n",
    "\n",
    "## Inner Products for Representing Similarity\n",
    "\n",
    "Ideas like the above are good for gaining intuitions about what we might want, but the one of the skills of data science is representing those ideas mathematically. Mathematical abstraction of a problem is one of the key ways in which we've been able to progress as a society. Understanding planetary motions, as well as those of the smallest molecule (to quote Laplace's [Philosophical Essay on Probabilities](http://books.google.co.uk/books?id=1YQPAAAAQAAJ&printsec=frontcover&source=gbs_ge_summary_r&cad=0#v=onepage&q&f=false)) needed to be done mathematically. The right mathematical model in machine learning can be slightly more elusive, because constructing it is a two stage process. \n",
    "\n",
    "1. We have to determine the right intuition for the system we want to represent. Notions such as 'subject' and 'interest' are not mathematically well defined, and even when we create a new interpretation of what they might mean, each interpretation may have its own weaknesses. \n",
    "\n",
    "2. Once we have our interpretation we can attempt to mathematically formalize it. In our library interpretation, that's what we need to do next. \n",
    "\n",
    "### The Library on an Infinite Plane\n",
    "\n",
    "Let's imagine a library which stores all the items  we are interested in, not just books, but films and shopping items too. Such a library is likely to be very large, so we'll create it on an infinite two dimensional plane. This means we can use all the real numbers to represent the location of each item on the plane. For a two dimensional plane, we need to store the locations in a vector of numbers: we can decide that the $j$th item's location in the library is given by \n",
    "$$\n",
    "\\mathbf{v}_j = \\begin{bmatrix} v_{j,1} \\\\ v_{j,2}\\end{bmatrix},\n",
    "$$\n",
    "where $v_{j,1}$ represents the $j$th item's location in the East-West direction (or the $x$-axis) and $v_{j,2}$ represents the $j$th item's location in the North-South direction (or the $y$-axis). Now we need to specify the location where each user sits so that all the items that interest them are nearby: we can also represent the $i$th user's location with a vector \n",
    "$$\n",
    "\\mathbf{u}_i = \\begin{bmatrix} u_{i,1} \\\\ u_{i,2}\\end{bmatrix}.\n",
    "$$\n",
    "Finally, we need some way of recording a given user's affinity for a given item. This affinity might be the rating that the user gives the film. We can use $y_{i,j}$ to represent user $i$'s affinity for item $j$. \n",
    "\n",
    "For our film example we might imagine wanting to order films in a few ways. We could imagine organising films in the North-South direction as to how romantic they are. We could place the more romantic films further North and the less romantic films further South. For the East-West direction we could imagine ordering them according to how historic they are: we can imagine placing science fiction films to the East and historical drama to the West. In this case, fans of historical romances would be based in the North-West location, whilst fans of Science Fiction Action films might be located in the South-East (if we assume that 'Action' is the opposite of 'Romance', which is not necessarily the case). How do we lay out all these films? Have we got the right axes? In machine learning the answer is to 'let the data speak'. Use the data to try and obtain such a lay out. To do this we first need to obtain the data."
   ]
  },
  {
   "cell_type": "markdown",
   "metadata": {},
   "source": [
    "## Obtaining the Data\n",
    "\n",
    "As mentioned before, the MovieLens dataset that we'll use has 100,000 ratings to 9,000 movies by 600 users. For now, we will only work with a subset of the dataset. In particular, we will randomly chose a particular number of users and extract the movies and ratings that the users gave to those movies. Read the code below and understand what it is doing.\n",
    "\n",
    "**Before you run the code**, notice that `YourStudentID` in the first line is a variable that will specify the seed for the random number generator that will select a particular set of `nUsersInExample` users. Change the number that has been assigned by default to `YourStudentID` to the last three digits of your UCard number. All of you will have a different subset of users."
   ]
  },
  {
   "cell_type": "code",
   "execution_count": 3,
   "metadata": {},
   "outputs": [],
   "source": [
    "YourStudentID = 233  # Include here the last three digits of your UCard number\n",
    "nUsersInExample = 10 # The maximum number of Users we're going to analyse at one time\n",
    "\n",
    "ratings = pd.read_csv(\"./ml-latest-small/ratings.csv\") \n",
    "\"\"\"\n",
    "ratings is a DataFrame with four columns: userId, movieId, rating and tags. We\n",
    "first want to identify how many unique users there are. We can use the unique \n",
    "method in pandas\n",
    "\"\"\"\n",
    "indexes_unique_users = ratings['userId'].unique()\n",
    "n_users = indexes_unique_users.shape[0]\n",
    "\"\"\" \n",
    "We randomly select 'nUsers' users with their ratings. We first fix the seed\n",
    "of the random generator to make sure that we always get the same 'nUsers'\n",
    "\"\"\"\n",
    "np.random.seed(YourStudentID)\n",
    "indexes_users = np.random.permutation(n_users)\n",
    "my_batch_users = indexes_users[0:nUsersInExample]\n",
    "\n",
    "\"\"\"\n",
    "We will use now the list of 'my_batch_users' to create a matrix Y. \n",
    "\"\"\"\n",
    "# We need to make a list of the movies that these users have watched\n",
    "list_movies_each_user = [[] for _ in range(nUsersInExample)]\n",
    "list_ratings_each_user = [[] for _ in range(nUsersInExample)]\n",
    "# Movies\n",
    "list_movies = ratings['movieId'][ratings['userId'] == my_batch_users[0]].values\n",
    "list_movies_each_user[0] = list_movies                    \n",
    "# Ratings                      \n",
    "list_ratings = ratings['rating'][ratings['userId'] == my_batch_users[0]].values\n",
    "list_ratings_each_user[0] = list_ratings\n",
    "# Users\n",
    "n_each_user = list_movies.shape[0]\n",
    "list_users = my_batch_users[0]*np.ones((1, n_each_user))\n",
    "\n",
    "for i in range(1, nUsersInExample):\n",
    "    # Movies\n",
    "    local_list_per_user_movies = ratings['movieId'][ratings['userId'] == my_batch_users[i]].values\n",
    "    list_movies_each_user[i] = local_list_per_user_movies\n",
    "    list_movies = np.append(list_movies,local_list_per_user_movies)\n",
    "    # Ratings                                 \n",
    "    local_list_per_user_ratings = ratings['rating'][ratings['userId'] == my_batch_users[i]].values\n",
    "    list_ratings_each_user[i] = local_list_per_user_ratings\n",
    "    list_ratings = np.append(list_ratings, local_list_per_user_ratings)  \n",
    "    # Users                                   \n",
    "    n_each_user = local_list_per_user_movies.shape[0]                                                                               \n",
    "    local_rep_user =  my_batch_users[i]*np.ones((1, n_each_user))    \n",
    "    list_users = np.append(list_users, local_rep_user)\n",
    "\n",
    "# Let us first see how many unique movies have been rated\n",
    "indexes_unique_movies = np.unique(list_movies)\n",
    "n_movies = indexes_unique_movies.shape[0]\n",
    "# As it is expected no all users have rated all movies. We will build a matrix Y \n",
    "# with NaN inputs and fill according to the data for each user \n",
    "temp = np.empty((n_movies,nUsersInExample,))\n",
    "temp[:] = np.nan\n",
    "Y_with_NaNs = pd.DataFrame(temp)\n",
    "for i in range(nUsersInExample):\n",
    " local_movies = list_movies_each_user[i]\n",
    " ixs = np.in1d(indexes_unique_movies, local_movies)\n",
    " Y_with_NaNs.loc[ixs, i] = list_ratings_each_user[i]\n",
    "\n",
    "Y_with_NaNs.index = indexes_unique_movies.tolist()\n",
    "Y_with_NaNs.columns = my_batch_users.tolist()"
   ]
  },
  {
   "cell_type": "markdown",
   "metadata": {},
   "source": [
    "### Assignment Question 2\n",
    "\n",
    "Have a look at the matrix `Y_with_NaNs`. The movies data is now in a data frame which contains one column for each user rating the movie. There are some entries that contain 'NaN'. What does the 'NaN' mean in this context?\n",
    "\n",
    "*5 marks*"
   ]
  },
  {
   "cell_type": "markdown",
   "metadata": {},
   "source": [
    "#### Answer Question 2\n",
    "\n",
    "NaN in this context stands for not a number, in this dataset there are some movies where not all users have rated them. Hence the entries for these users is missing and in the package pandas, NaN is used as the default entry for missing data. "
   ]
  },
  {
   "cell_type": "markdown",
   "metadata": {},
   "source": [
    "Now we will convert our data structure into a form that is appropriate for processing. We will convert the `Y_with_NaNs` dataframe into a new dataframe which contains the user, the movie, and the rating using the following code"
   ]
  },
  {
   "cell_type": "code",
   "execution_count": 4,
   "metadata": {},
   "outputs": [
    {
     "name": "stdout",
     "output_type": "stream",
     "text": [
      "     users  movies  ratingsorig   ratings\n",
      "0    602.0       2          4.0  0.260142\n",
      "1    602.0       6          3.0 -0.739858\n",
      "2    602.0      10          3.0 -0.739858\n",
      "3    602.0      11          3.0 -0.739858\n",
      "4    602.0      14          5.0  1.260142\n",
      "5    602.0      16          3.0 -0.739858\n",
      "6    602.0      19          2.0 -1.739858\n",
      "7    602.0      21          4.0  0.260142\n",
      "8    602.0      22          3.0 -0.739858\n",
      "9    602.0      25          4.0  0.260142\n",
      "10   602.0      29          2.0 -1.739858\n",
      "11   602.0      32          3.0 -0.739858\n",
      "12   602.0      34          1.0 -2.739858\n",
      "13   602.0      36          3.0 -0.739858\n",
      "14   602.0      39          5.0  1.260142\n",
      "15   602.0      45          5.0  1.260142\n",
      "16   602.0      47          5.0  1.260142\n",
      "17   602.0      50          5.0  1.260142\n",
      "18   602.0      52          3.0 -0.739858\n",
      "19   602.0      95          3.0 -0.739858\n",
      "20   602.0     100          3.0 -0.739858\n",
      "21   602.0     110          5.0  1.260142\n",
      "22   602.0     125          3.0 -0.739858\n",
      "23   602.0     141          4.0  0.260142\n",
      "24   602.0     144          3.0 -0.739858\n",
      "25   602.0     150          4.0  0.260142\n",
      "26   602.0     151          4.0  0.260142\n",
      "27   602.0     153          4.0  0.260142\n",
      "28   602.0     158          3.0 -0.739858\n",
      "29   602.0     160          3.0 -0.739858\n",
      "..     ...     ...          ...       ...\n",
      "956  411.0     455          3.0 -0.739858\n",
      "957  411.0     457          4.0  0.260142\n",
      "958  411.0     471          4.0  0.260142\n",
      "959  411.0     474          3.0 -0.739858\n",
      "960  411.0     477          3.0 -0.739858\n",
      "961  411.0     480          5.0  1.260142\n",
      "962  411.0     489          3.0 -0.739858\n",
      "963  411.0     500          4.0  0.260142\n",
      "964  411.0     508          5.0  1.260142\n",
      "965  411.0     509          2.0 -1.739858\n",
      "966  411.0     515          2.0 -1.739858\n",
      "967  411.0     524          3.0 -0.739858\n",
      "968  411.0     527          5.0  1.260142\n",
      "969  411.0     529          3.0 -0.739858\n",
      "970  411.0     534          2.0 -1.739858\n",
      "971  411.0     539          3.0 -0.739858\n",
      "972  411.0     540          3.0 -0.739858\n",
      "973  411.0     551          4.0  0.260142\n",
      "974  411.0     553          5.0  1.260142\n",
      "975  411.0     585          3.0 -0.739858\n",
      "976  411.0     586          4.0  0.260142\n",
      "977  411.0     587          4.0  0.260142\n",
      "978  411.0     589          3.0 -0.739858\n",
      "979  411.0     590          5.0  1.260142\n",
      "980  411.0     592          3.0 -0.739858\n",
      "981  411.0     593          5.0  1.260142\n",
      "982  411.0     597          3.0 -0.739858\n",
      "983  411.0     648          5.0  1.260142\n",
      "984  411.0     661          2.0 -1.739858\n",
      "985  411.0     708          3.0 -0.739858\n",
      "\n",
      "[986 rows x 4 columns]\n"
     ]
    }
   ],
   "source": [
    "p_list_ratings = np.concatenate(list_ratings_each_user).ravel()\n",
    "p_list_ratings_original = p_list_ratings.tolist()\n",
    "mean_ratings_train = np.mean(p_list_ratings)\n",
    "p_list_ratings =  p_list_ratings - mean_ratings_train # remove the mean\n",
    "p_list_movies = np.concatenate(list_movies_each_user).ravel().tolist()\n",
    "p_list_users = list_users.tolist()\n",
    "Y = pd.DataFrame({'users': p_list_users, 'movies': p_list_movies, 'ratingsorig': p_list_ratings_original,'ratings':p_list_ratings.tolist()})\n",
    "\n",
    "print(Y)"
   ]
  },
  {
   "cell_type": "markdown",
   "metadata": {},
   "source": [
    "### Assignment Question 3\n",
    "\n",
    "The dataframes `Y_with_NaNs` and `Y` contain the same information but organised in a different way. Explain what is the difference. We have also included two columns for ratings in dataframe `Y`, `ratingsorig` and `ratings`. Explain\n",
    "the difference. \n",
    "\n",
    "*10 marks*"
   ]
  },
  {
   "cell_type": "markdown",
   "metadata": {},
   "source": [
    "#### Question 3 Answer\n",
    "\n",
    "The main difference between Y_with_NaNs and Y is that Y has been arranged in a way where no NaN entries are required.  The ratingsorig column is the original ratings given by the user whereas the ratings column is the normalised ratings, where this is the original ratings - average rating. \n"
   ]
  },
  {
   "cell_type": "markdown",
   "metadata": {},
   "source": [
    "## Measuring Similarity\n",
    "\n",
    "We now need a measure for determining the similarity between the item and the user: how close the user is sitting to the item in the rooom if you like. We are going to use the inner product between the vector representing the item and the vector representing the user. \n",
    "\n",
    "An inner product (or [dot product](http://en.wikipedia.org/wiki/Dot_product)) between two vectors $\\mathbf{a}$ and $\\mathbf{b}$ is written as $\\mathbf{a}\\cdot\\mathbf{b}$. Or in vector notation we sometimes write it as $\\mathbf{a}^\\top\\mathbf{b}$. An inner product is simply the sume of the products of each element of the vector,\n",
    "$$\n",
    "\\mathbf{a}^\\top\\mathbf{b} = \\sum_{i} a_i b_i\n",
    "$$\n",
    "The inner product can be seen as a measure of similarity. The inner product gives us the cosine of the angle between the two vectors multiplied by their length. The smaller the angle between two vectors the larger the inner product. \n",
    "$$\n",
    "\\mathbf{a}^\\top\\mathbf{b} = |\\mathbf{a}||\\mathbf{b}| \\cos(\\theta)\n",
    "$$\n",
    "where $\\theta$ is the angle between two vectors and $|\\mathbf{a}|$ and $|\\mathbf{b}|$ are the respective lengths of the two vectors.\n",
    "\n",
    "Since we want each user to be sitting near each item, then we want the inner product to be large for any two items which are rated highly by that user. We can do this by trying to force the inner product $\\mathbf{u}_i^\\top\\mathbf{v}_j$ to be similar to the rating given by the user, $y_{i,j}$. To ensure this we will use a least squares objective function for all user ratings."
   ]
  },
  {
   "cell_type": "markdown",
   "metadata": {},
   "source": [
    "## Objective Function\n",
    "\n",
    "The error function (or objective function, or cost function) we will choose is known as 'sum of squares', we will aim to minimize the sum of squared squared error between the inner product of $\\mathbf{u}_i$ and $\\mathbf{v}_i$ and the observed score for the user/item pairing, given by $y_{i, j}$. \n",
    "\n",
    "The total objective function can be written as\n",
    "$$\n",
    "E(\\mathbf{U}, \\mathbf{V}) = \\sum_{i,j} s_{i,j} (y_{i,j} - \\mathbf{u}_i^\\top \\mathbf{v}_j)^2\n",
    "$$\n",
    "where $s_{i,j}$ is an *indicator* variable that is 1 if user $i$ has rated item $j$ and is zero otherwise. Here $\\mathbf{U}$ is the matrix made up of all the vectors $\\mathbf{u}$,\n",
    "$$\n",
    "\\mathbf{U} = \\begin{bmatrix} \\mathbf{u}_1 \\dots \\mathbf{u}_n\\end{bmatrix}^\\top\n",
    "$$\n",
    "where we note that $i$th *row* of $\\mathbf{U}$ contains the vector associated with the $i$th user and $n$ is the total number of users. This form of matrix is known as a *design matrix*. Similarly, we define the matrix\n",
    "$$\n",
    "\\mathbf{V} = \\begin{bmatrix} \\mathbf{v}_1 \\dots \\mathbf{v}_m\\end{bmatrix}^\\top\n",
    "$$\n",
    "where again the $j$th row of $\\mathbf{V}$ contains the vector associated with the $j$th item and $m$ is the total number of items in the data set.\n",
    "\n",
    "## Objective Optimization\n",
    "\n",
    "The idea is to mimimize this objective. A standard, simple, technique for minimizing an objective is *gradient descent* or *steepest descent*. In gradient descent we simply choose to update each parameter in the model by subtracting a multiple of the objective function's gradient with respect to the parameters. So for a parameter $u_{i,j}$ from the matrix $\\mathbf{U}$ we would have an update as follows:\n",
    "$$\n",
    "u_{k,\\ell} \\leftarrow u_{k,\\ell} - \\eta \\frac{\\text{d} E(\\mathbf{U}, \\mathbf{V})}{\\text{d}u_{k,\\ell}} \n",
    "$$\n",
    "where $\\eta$ (which is pronounced *eta* in English) is a Greek letter representing the *learning rate*.  \n",
    "\n",
    "We can compute the gradient of the objective function with respect to $u_{k,\\ell}$ as\n",
    "$$\n",
    "\\frac{\\text{d}E(\\mathbf{U}, \\mathbf{V})}{\\text{d}u_{k,\\ell}} = -2 \\sum_j s_{k,j}v_{j,\\ell}(y_{k, j} - \\mathbf{u}_k^\\top\\mathbf{v}_{j}). \n",
    "$$\n",
    "Similarly each parameter $v_{i,j}$ needs to be updated according to its gradient. \n"
   ]
  },
  {
   "cell_type": "markdown",
   "metadata": {},
   "source": [
    "### Assignment Question 4\n",
    "\n",
    "What is the gradient of the objective function with respect to $v_{k, \\ell}$? Write your answer in the box below, and explain which differentiation techniques you used to get there. You will be expected to justify your answer in class by oral questioning. \n",
    "\n",
    "*15 marks*"
   ]
  },
  {
   "cell_type": "markdown",
   "metadata": {},
   "source": [
    "#### Question 4 Answer\n",
    "\n",
    "$$\n",
    "\\frac{\\text{d}E(\\mathbf{U}, \\mathbf{V})}{\\text{d}u_{k,\\ell}} = -2 \\sum_i s_{i,k}v_{k,\\ell}(y_{i, k} - \\mathbf{u}_i^\\top\\mathbf{v}_{k}). \n",
    "$$\n",
    "\n"
   ]
  },
  {
   "cell_type": "markdown",
   "metadata": {},
   "source": [
    "#### Question 4 Code Answer\n",
    "\n",
    "$$\n",
    "E(\\mathbf{U}, \\mathbf{V}) = \\sum_{i,j} s_{i,j} (y_{i,j} - \\mathbf{u}_i^\\top \\mathbf{v}_j)^2\n",
    "$$\n",
    "\n",
    "Differentiating E(U,V), via chain rule carries the power of two down outside of the sum so that the whole sumation is multiplied by two, given the minus sign inside the brackets this is also carried outside of the brackets and the summation is negative. \n",
    "\n",
    "The rest of the terms are then arranged in terms of i."
   ]
  },
  {
   "cell_type": "markdown",
   "metadata": {},
   "source": [
    "\n",
    "## Steepest Descent Algorithm\n",
    "\n",
    "In the steepest descent algorithm we aim to minimize the objective function by subtacting the gradient of the objective function from the parameters. \n",
    "\n",
    "### Initialisation\n",
    "\n",
    "To start with though, we need initial values for the matrix $\\mathbf{U}$ and the matrix $\\mathbf{V}$. Let's create them as `pandas` data frames and initialise them randomly with small values."
   ]
  },
  {
   "cell_type": "code",
   "execution_count": 5,
   "metadata": {},
   "outputs": [],
   "source": [
    "q = 2 # the dimension of our map of the 'library'\n",
    "learn_rate = 0.01\n",
    "U = pd.DataFrame(np.random.normal(size=(nUsersInExample, q))*0.001, index=my_batch_users)\n",
    "V = pd.DataFrame(np.random.normal(size=(n_movies, q))*0.001, index=indexes_unique_movies)"
   ]
  },
  {
   "cell_type": "markdown",
   "metadata": {},
   "source": [
    "Now that we have the initial values set, we can start the optimization. First we define a function for the gradient of the objective and the objective function itself."
   ]
  },
  {
   "cell_type": "code",
   "execution_count": 6,
   "metadata": {},
   "outputs": [],
   "source": [
    "def objective_gradient(Y, U, V):\n",
    "    gU = pd.DataFrame(np.zeros((U.shape)), index=U.index)\n",
    "    gV = pd.DataFrame(np.zeros((V.shape)), index=V.index)\n",
    "    obj = 0.\n",
    "    nrows = Y.shape[0]\n",
    "    for i in range(nrows):\n",
    "        row = Y.iloc[i]\n",
    "        user = row['users']\n",
    "        film = row['movies']\n",
    "        rating = row['ratings']\n",
    "        prediction = np.dot(U.loc[user], V.loc[film]) # vTu\n",
    "        diff = prediction - rating # vTu - y\n",
    "        obj += diff*diff\n",
    "        gU.loc[user] += 2*diff*V.loc[film]\n",
    "        gV.loc[film] += 2*diff*U.loc[user]\n",
    "    return obj, gU, gV"
   ]
  },
  {
   "cell_type": "markdown",
   "metadata": {},
   "source": [
    "Now we can write our simple optimisation route. This allows us to observe the objective function as the optimization proceeds."
   ]
  },
  {
   "cell_type": "code",
   "execution_count": 7,
   "metadata": {},
   "outputs": [
    {
     "name": "stdout",
     "output_type": "stream",
     "text": [
      "Iteration 0 Objective function:  1047.0238354046473\n",
      "Iteration 1 Objective function:  1047.023556882911\n",
      "Iteration 2 Objective function:  1047.0233274486995\n",
      "Iteration 3 Objective function:  1047.02303115575\n",
      "Iteration 4 Objective function:  1047.0225457141876\n",
      "Iteration 5 Objective function:  1047.021660229115\n",
      "Iteration 6 Objective function:  1047.0199557825572\n",
      "Iteration 7 Objective function:  1047.0165714510752\n",
      "Iteration 8 Objective function:  1047.0097181681701\n",
      "Iteration 9 Objective function:  1046.9956581952413\n"
     ]
    }
   ],
   "source": [
    "iterations = 10\n",
    "for i in range(iterations):\n",
    "    obj, gU, gV = objective_gradient(Y, U, V)\n",
    "    print(\"Iteration\", i, \"Objective function: \", obj)\n",
    "    U -= learn_rate*gU\n",
    "    V -= learn_rate*gV    "
   ]
  },
  {
   "cell_type": "markdown",
   "metadata": {},
   "source": [
    "### Assignment Question 5\n",
    "\n",
    "What happens as you increase the number of iterations? What happens if you increase the learning rate?\n",
    "\n",
    "*10 marks*\n",
    "\n",
    "The learning rate determines how fast you move along the slope of the gradient, too small and it will take too many iterations before convergence. Too large then overshooting and oscillatory non-convergent behaviour is possible. Oscillations in the calculation make the result meaningless. By increasing the number of iterations gets the objective functions closer to convergence. "
   ]
  },
  {
   "cell_type": "markdown",
   "metadata": {},
   "source": [
    "#### Question 5 Answer\n",
    "\n",
    "Write your answer to the question in this box."
   ]
  },
  {
   "cell_type": "code",
   "execution_count": 8,
   "metadata": {},
   "outputs": [
    {
     "name": "stdout",
     "output_type": "stream",
     "text": [
      "Iteration 0 Objective function:  1046.9665577271835\n",
      "Iteration 1 Objective function:  1046.7186821594191\n",
      "Iteration 2 Objective function:  1045.3604894969117\n",
      "Iteration 3 Objective function:  1037.904586769307\n",
      "Iteration 4 Objective function:  998.0340891244571\n",
      "Iteration 5 Objective function:  817.41636918042\n",
      "Iteration 6 Objective function:  532.364076638172\n",
      "Iteration 7 Objective function:  526.9774104341902\n",
      "Iteration 8 Objective function:  517.2097061373772\n",
      "Iteration 9 Objective function:  501.7809480887025\n",
      "Iteration 10 Objective function:  473.69097271028744\n",
      "Iteration 11 Objective function:  497.26438619841736\n",
      "Iteration 12 Objective function:  390.79259086421206\n",
      "Iteration 13 Objective function:  554.0991512294844\n",
      "Iteration 14 Objective function:  210.4484552957917\n",
      "Iteration 15 Objective function:  177.73316060775727\n",
      "Iteration 16 Objective function:  167.04923376854595\n",
      "Iteration 17 Objective function:  208.78121336670608\n",
      "Iteration 18 Objective function:  239.2051028301414\n",
      "Iteration 19 Objective function:  482.49480388731996\n",
      "Iteration 20 Objective function:  117.99382523311391\n",
      "Iteration 21 Objective function:  109.94357094801015\n",
      "Iteration 22 Objective function:  109.03914705489053\n",
      "Iteration 23 Objective function:  112.17120233714449\n",
      "Iteration 24 Objective function:  144.22982481027734\n",
      "Iteration 25 Objective function:  161.0538856987425\n",
      "Iteration 26 Objective function:  323.0384344769911\n",
      "Iteration 27 Objective function:  115.3599100322443\n",
      "Iteration 28 Objective function:  206.04266429272155\n",
      "Iteration 29 Objective function:  169.61651313179937\n",
      "Iteration 30 Objective function:  392.9308194320552\n",
      "Iteration 31 Objective function:  64.23174722614446\n",
      "Iteration 32 Objective function:  62.52991253135061\n",
      "Iteration 33 Objective function:  63.280886096865416\n",
      "Iteration 34 Objective function:  66.79829620676371\n",
      "Iteration 35 Objective function:  72.83719619132252\n",
      "Iteration 36 Objective function:  93.53325833531002\n",
      "Iteration 37 Objective function:  114.88876761610543\n",
      "Iteration 38 Objective function:  227.36387211750437\n",
      "Iteration 39 Objective function:  146.83584981840838\n",
      "Iteration 40 Objective function:  340.97408616865505\n",
      "Iteration 41 Objective function:  72.9503273733361\n",
      "Iteration 42 Objective function:  109.92007837293606\n",
      "Iteration 43 Objective function:  145.20860762780728\n",
      "Iteration 44 Objective function:  344.28163657553995\n",
      "Iteration 45 Objective function:  60.84998552297587\n",
      "Iteration 46 Objective function:  72.42501340178967\n",
      "Iteration 47 Objective function:  96.32823876611776\n",
      "Iteration 48 Objective function:  199.86304552778472\n",
      "Iteration 49 Objective function:  156.16650463137714\n"
     ]
    }
   ],
   "source": [
    "# Question 5 Code Answer\n",
    "def objectiveFunc_Observation(iterations, learning_rate, Y, U, V):\n",
    "    for itera in range(iterations):\n",
    "        obj, gU, gV = objective_gradient(Y, U, V)\n",
    "        print(\"Iteration\", itera, \"Objective function: \", obj)\n",
    "        U -= learning_rate*gU\n",
    "        V -= learning_rate*gV\n",
    "\n",
    "objectiveFunc_Observation(50, 0.03, Y, U, V)"
   ]
  },
  {
   "cell_type": "markdown",
   "metadata": {},
   "source": [
    "## Making Predictions\n",
    "\n",
    "Predictions can be made from the model of the appropriate rating for a given user, $i$, for a given film, $j$, by simply taking the inner product between their vectors $\\mathbf{u}_i$ and $\\mathbf{v}_j$. "
   ]
  },
  {
   "cell_type": "markdown",
   "metadata": {},
   "source": [
    "### Assignment Question 6\n",
    "\n",
    "Create a function that provides the prediction of the ratings for the users in the dataset. Is the quality of the predictions affected by the number of iterations or the learning rate? The function should receive `Y`, `U` and `V` and return the predictions and the absolute error between the predictions and the actual rating given by the users. The predictions and the absolute error should be added as additional columns to the dataframe `Y`.\n",
    "\n",
    "*15 marks*"
   ]
  },
  {
   "cell_type": "code",
   "execution_count": 9,
   "metadata": {},
   "outputs": [
    {
     "name": "stdout",
     "output_type": "stream",
     "text": [
      "     users  movies  ratingsorig   ratings  Prediction     Error\n",
      "0    602.0       2          4.0  0.260142    0.273635  0.013493\n",
      "1    602.0       6          3.0 -0.739858   -0.530777  0.209081\n",
      "2    602.0      10          3.0 -0.739858   -0.773738  0.033880\n",
      "3    602.0      11          3.0 -0.739858   -0.199393  0.540465\n",
      "4    602.0      14          5.0  1.260142    1.098124  0.162018\n",
      "5    602.0      16          3.0 -0.739858   -0.645361  0.094497\n",
      "6    602.0      19          2.0 -1.739858   -1.516087  0.223771\n",
      "7    602.0      21          4.0  0.260142    0.189251  0.070891\n",
      "8    602.0      22          3.0 -0.739858   -0.778234  0.038376\n",
      "9    602.0      25          4.0  0.260142    0.226920  0.033222\n",
      "10   602.0      29          2.0 -1.739858   -1.516804  0.223054\n",
      "11   602.0      32          3.0 -0.739858   -1.216795  0.476937\n",
      "12   602.0      34          1.0 -2.739858   -1.930261  0.809597\n",
      "13   602.0      36          3.0 -0.739858   -0.644674  0.095184\n",
      "14   602.0      39          5.0  1.260142    1.154423  0.105719\n",
      "15   602.0      45          5.0  1.260142    0.904030  0.356112\n",
      "16   602.0      47          5.0  1.260142    0.485758  0.774384\n",
      "17   602.0      50          5.0  1.260142   -0.177071  1.437213\n",
      "18   602.0      52          3.0 -0.739858   -1.317786  0.577928\n",
      "19   602.0      95          3.0 -0.739858   -0.645180  0.094678\n",
      "20   602.0     100          3.0 -0.739858   -0.645444  0.094414\n",
      "21   602.0     110          5.0  1.260142    0.642868  0.617274\n",
      "22   602.0     125          3.0 -0.739858   -0.781170  0.041312\n",
      "23   602.0     141          4.0  0.260142    0.227248  0.032894\n",
      "24   602.0     144          3.0 -0.739858   -0.280384  0.459474\n",
      "25   602.0     150          4.0  0.260142    0.576067  0.315925\n",
      "26   602.0     151          4.0  0.260142    0.273632  0.013490\n",
      "27   602.0     153          4.0  0.260142    0.437020  0.176878\n",
      "28   602.0     158          3.0 -0.739858   -0.778232  0.038374\n",
      "29   602.0     160          3.0 -0.739858   -0.778231  0.038373\n",
      "..     ...     ...          ...       ...         ...       ...\n",
      "956  411.0     455          3.0 -0.739858   -0.735296  0.004562\n",
      "957  411.0     457          4.0  0.260142    0.275677  0.015535\n",
      "958  411.0     471          4.0  0.260142    0.600867  0.340725\n",
      "959  411.0     474          3.0 -0.739858   -0.025475  0.714383\n",
      "960  411.0     477          3.0 -0.739858   -0.734932  0.004926\n",
      "961  411.0     480          5.0  1.260142    0.266533  0.993609\n",
      "962  411.0     489          3.0 -0.739858   -0.735069  0.004789\n",
      "963  411.0     500          4.0  0.260142   -0.084001  0.344143\n",
      "964  411.0     508          5.0  1.260142    1.373430  0.113288\n",
      "965  411.0     509          2.0 -1.739858   -1.609139  0.130719\n",
      "966  411.0     515          2.0 -1.739858   -1.728939  0.010919\n",
      "967  411.0     524          3.0 -0.739858   -0.735296  0.004562\n",
      "968  411.0     527          5.0  1.260142    1.679961  0.419819\n",
      "969  411.0     529          3.0 -0.739858   -0.716705  0.023153\n",
      "970  411.0     534          2.0 -1.739858   -1.728898  0.010960\n",
      "971  411.0     539          3.0 -0.739858   -0.716735  0.023123\n",
      "972  411.0     540          3.0 -0.739858   -0.735171  0.004687\n",
      "973  411.0     551          4.0  0.260142    0.252009  0.008133\n",
      "974  411.0     553          5.0  1.260142    1.449737  0.189595\n",
      "975  411.0     585          3.0 -0.739858   -0.735130  0.004728\n",
      "976  411.0     586          4.0  0.260142    0.481011  0.220869\n",
      "977  411.0     587          4.0  0.260142    0.187033  0.073109\n",
      "978  411.0     589          3.0 -0.739858   -0.132233  0.607625\n",
      "979  411.0     590          5.0  1.260142   -0.024616  1.284758\n",
      "980  411.0     592          3.0 -0.739858   -0.278703  0.461155\n",
      "981  411.0     593          5.0  1.260142    0.281484  0.978658\n",
      "982  411.0     597          3.0 -0.739858   -1.180838  0.440980\n",
      "983  411.0     648          5.0  1.260142    0.652768  0.607374\n",
      "984  411.0     661          2.0 -1.739858   -1.728786  0.011072\n",
      "985  411.0     708          3.0 -0.739858   -0.761536  0.021678\n",
      "\n",
      "[986 rows x 6 columns]\n"
     ]
    }
   ],
   "source": [
    "# Question 6 Code Answer\n",
    "def rating_prediction(Y, U, V):\n",
    "    predictions = []\n",
    "    errors = []\n",
    "    obj = 0.\n",
    "    nrows = Y.shape[0]\n",
    "    for i in range(nrows):\n",
    "        row = Y.iloc[i]\n",
    "        user = row['users']\n",
    "        film = row['movies']\n",
    "        rating = row['ratings']\n",
    "        prediction = np.dot(U.loc[user], V.loc[film])\n",
    "        error = abs(rating-prediction)\n",
    "        predictions.append(prediction)\n",
    "        errors.append(error)\n",
    "    return predictions, errors\n",
    "\n",
    "predictions, errors = rating_prediction(Y, U, V)\n",
    "Y[\"Prediction\"] = predictions\n",
    "Y[\"Error\"] = errors\n",
    "\n",
    "print(Y)\n"
   ]
  },
  {
   "cell_type": "markdown",
   "metadata": {},
   "source": [
    "## Stochastic Gradient Descent or Robbins Monroe Algorithm\n",
    "\n",
    "Stochastic gradient descent involves updating separating each gradient update according to each separate observation, rather than summing over them all. It is an approximate optimization method, but it has proven convergence under certain conditions and can be much faster in practice. It is used widely by internet companies for doing machine learning in practice. For example, Facebook's ad ranking algorithm uses stochastic gradient descent. "
   ]
  },
  {
   "cell_type": "markdown",
   "metadata": {},
   "source": [
    "### Assignment Question 7\n",
    "\n",
    "Create a stochastic gradient descent version of the algorithm. Monitor the objective function after every 1000 updates to ensure that it is decreasing. When you have finished, plot the movie map and the user map in two dimensions (you can use the columns of the matrices $\\mathbf{U}$ for the user map and the columns of $\\mathbf{V}$ for the movie map). Provide three observations about these maps.\n",
    "\n",
    "*25 marks*"
   ]
  },
  {
   "cell_type": "code",
   "execution_count": 11,
   "metadata": {},
   "outputs": [
    {
     "name": "stdout",
     "output_type": "stream",
     "text": [
      "itertion 0 obj func: 1047.023567968703\n",
      "itertion 1000 obj func: 1047.0060761595414\n",
      "itertion 2000 obj func: 1045.8774137281932\n",
      "itertion 3000 obj func: 979.4558791338568\n",
      "itertion 4000 obj func: 432.4098538940855\n",
      "itertion 5000 obj func: 248.48073320595054\n",
      "itertion 6000 obj func: 184.61678357005005\n",
      "itertion 7000 obj func: 159.40229171642582\n",
      "itertion 8000 obj func: 139.82332549391535\n",
      "itertion 9000 obj func: 122.63059731895066\n",
      "itertion 10000 obj func: 104.11174552632154\n",
      "itertion 11000 obj func: 97.57882890627549\n",
      "itertion 12000 obj func: 92.8735437282398\n",
      "itertion 13000 obj func: 91.67364489929786\n",
      "itertion 14000 obj func: 83.85117473167512\n",
      "itertion 15000 obj func: 73.82833446387826\n",
      "itertion 16000 obj func: 66.55334888261335\n",
      "itertion 17000 obj func: 63.15575114679355\n",
      "itertion 18000 obj func: 62.66604299158894\n",
      "itertion 19000 obj func: 61.0512626652993\n",
      "itertion 20000 obj func: 59.86144810061381\n",
      "itertion 21000 obj func: 58.19893183924787\n",
      "itertion 22000 obj func: 57.356794359060984\n",
      "itertion 23000 obj func: 56.242943903262905\n",
      "itertion 24000 obj func: 57.28995364881095\n",
      "24000\n"
     ]
    }
   ],
   "source": [
    "# Question 7 Code Answer\n",
    "from random import randint\n",
    "\n",
    "def stochastic_gradient(Y, USto, VSto, users):\n",
    "    gU = pd.DataFrame(np.zeros((USto.shape)), index = USto.index)\n",
    "    gV = pd.DataFrame(np.zeros((VSto.shape)), index = VSto.index)\n",
    "    \n",
    "    for i in range(5):\n",
    "        rowInt = randint(0, len(Y) - 1)\n",
    "        row = Y.iloc[rowInt]\n",
    "        user = row['users']\n",
    "        film = row['movies']\n",
    "        rating = row['ratings']\n",
    "        prediction = np.dot(USto.loc[user], VSto.loc[film])\n",
    "        diff = prediction - rating\n",
    "        gU.loc[user] = 2*diff*VSto.loc[film]\n",
    "        gV.loc[film] = 2*diff*USto.loc[user]\n",
    "    return gU, gV\n",
    "\n",
    "def objectiveFunctionForData(rows, Y, USto, VSto):\n",
    "    obj = 0.\n",
    "    for i in range(rows):\n",
    "        row = Y.iloc[i]\n",
    "        user = row['users']\n",
    "        film = row['movies']\n",
    "        rating = row['ratings']\n",
    "        prediction = np.dot(USto.loc[user], VSto.loc[film])\n",
    "        diff = prediction - rating\n",
    "        obj += diff*diff\n",
    "    return obj\n",
    "\n",
    "def stochasticFunc_Observation(iterations, learning_rate, Y, USto, VSto, rows, oldObjFunc, users):\n",
    "    oldObjectiveFunc = oldObjFunc\n",
    "    for itera in range(iterations):\n",
    "        gU, gV = stochastic_gradient(Y, USto, VSto, users)\n",
    "        USto -= learning_rate*gU\n",
    "        VSto -= learning_rate*gV\n",
    "        \n",
    "        if itera % 1000 == 0:\n",
    "            currentObjFunc = 0\n",
    "            currentObjFunc = objectiveFunctionForData(rows, Y, USto, VSto)\n",
    "            print(\"itertion\", itera, \"obj func:\", currentObjFunc)\n",
    "            if currentObjFunc < oldObjectiveFunc:\n",
    "                oldObjectiveFunc = currentObjFunc\n",
    "            else:\n",
    "                print(itera) # Covergence has been reached so stop observing \n",
    "                break\n",
    "\n",
    "UStochast = pd.DataFrame(np.random.normal(size = (nUsersInExample, 2))*0.001, index = my_batch_users)\n",
    "VStochast = pd.DataFrame(np.random.normal(size = (n_movies, 2))*0.001, index = indexes_unique_movies)\n",
    "                \n",
    "oldObjectiveFunc = 0\n",
    "nrows = Y.shape[0]\n",
    "oldObjectiveFunc = objectiveFunctionForData(nrows, Y, UStochast, VStochast)\n",
    "stochasticFunc_Observation(100000, 0.01, Y, UStochast, VStochast, nrows, oldObjectiveFunc, 10)\n"
   ]
  },
  {
   "cell_type": "code",
   "execution_count": 12,
   "metadata": {},
   "outputs": [
    {
     "data": {
      "text/plain": [
       "[<matplotlib.lines.Line2D at 0x2891dc0ffd0>]"
      ]
     },
     "execution_count": 12,
     "metadata": {},
     "output_type": "execute_result"
    },
    {
     "data": {
      "image/png": "[encoded data removed]",
      "text/plain": [
       "<Figure size 432x288 with 1 Axes>"
      ]
     },
     "metadata": {},
     "output_type": "display_data"
    }
   ],
   "source": [
    "import pylab as plt\n",
    "plt.plot(VStochast[0], VStochast[1], 'rx')\n",
    "plt.plot(UStochast[0], UStochast[1], 'bx')"
   ]
  },
  {
   "cell_type": "markdown",
   "metadata": {},
   "source": [
    "The maps provide information about the movies that a user could be interested in, if a user is close to the films they can be recommended films that they will enjoy more accurately. This is probabaly because that user has provided more ratings so a better understanding of the users film tastes can be calculated. \n",
    "\n",
    "If a user is placed far away from the films then it is likely that this user has not provided many ratings or has provided negative ratings for all films in the dataset. Therefore it is difficult for the model to recommend films this user may like. "
   ]
  },
  {
   "cell_type": "markdown",
   "metadata": {},
   "source": [
    "## Is Our Map Enough? Are Our Data Enough?\n",
    "\n",
    "Is two dimensions really enough to capture the complexity of humans and their artforms? Perhaps we need even more dimensions to capture that complexity. Extending our books analogy further, consider how we should place books that have a historical timeframe as well as some geographical location. Do we really want books from the 2nd World War to sit alongside books from the Roman Empire? Books on the American invasion of Sicily in 1943 are perhaps less related to books about Carthage than those that study the Jewish Revolt from 66-70 (in the Roman Province of Judaea). So books that relate to subjects which are closer in time should be stored together. However, a student of rebellion against empire may also be interested in the relationship between the Jewish Revolt of 66-70 and the Indian Rebellion of 1857, nearly 1800 years later. Whilst the technologies are different, the psychology of the people is shared: a rebellious nation angainst their imperial masters, triggered by misrule with a religious and cultural background. To capture such complexities we would need further dimensions in our latent representation. But are further dimensions justified by the amount of data we have? Can we really understand the facets of a film that only has at most three or four ratings?"
   ]
  },
  {
   "cell_type": "markdown",
   "metadata": {},
   "source": [
    "## Going Further\n",
    "\n",
    "If you want to take this model further then you'll need more data. You can use again the MovieLens 100k data but increasing the number of users (for example, for the Steepest Descent Algorithm you can do this by modifying the variable `nUsersInExample` that was set as 10 before)."
   ]
  },
  {
   "cell_type": "markdown",
   "metadata": {},
   "source": [
    "### Assignment Question 8\n",
    "\n",
    "Use stochastic gradient descent to make a movie map for the MovieLens 100k data. Plot the map of the movies when you are finished.\n",
    "\n",
    "*15 marks*"
   ]
  },
  {
   "cell_type": "code",
   "execution_count": 13,
   "metadata": {},
   "outputs": [],
   "source": [
    "# Code for question 8 here."
   ]
  },
  {
   "cell_type": "code",
   "execution_count": 16,
   "metadata": {},
   "outputs": [
    {
     "name": "stdout",
     "output_type": "stream",
     "text": [
      "itertion 0 obj func: 108591.67145020998\n",
      "itertion 1000 obj func: 108591.27116053051\n",
      "itertion 2000 obj func: 107491.07338739798\n",
      "itertion 3000 obj func: 77073.8808013984\n",
      "itertion 4000 obj func: 62525.73495099662\n",
      "itertion 5000 obj func: 59075.1338876583\n",
      "itertion 6000 obj func: 57684.22804689066\n",
      "itertion 7000 obj func: 57035.42954049705\n",
      "itertion 8000 obj func: 56651.30400639133\n",
      "itertion 9000 obj func: 56506.03032918045\n",
      "itertion 10000 obj func: 56024.80116965105\n",
      "itertion 11000 obj func: 55947.64632633844\n",
      "itertion 12000 obj func: 55850.7583453316\n",
      "itertion 13000 obj func: 55692.83955238109\n",
      "itertion 14000 obj func: 55594.72123306918\n",
      "itertion 15000 obj func: 55428.941552783865\n",
      "itertion 16000 obj func: 55563.311747840344\n",
      "16000\n"
     ]
    }
   ],
   "source": [
    "def getDataForAllUsers(numberOfUsers, users, ratings):\n",
    "    list_movies_each_user = [[] for _ in range(numberOfUsers)]\n",
    "    list_ratings_each_user = [[] for _ in range(numberOfUsers)]\n",
    "    \n",
    "    list_movies = ratings['movieId'][ratings['userId'] == users[0]].values\n",
    "    list_movies_each_user[0] = list_movies\n",
    "    \n",
    "    list_ratings = ratings['rating'][ratings['userId'] == users[0]].values\n",
    "    list_ratings_each_user[0] = list_ratings\n",
    "    \n",
    "    n_each_user = list_movies.shape[0]\n",
    "    list_users = users[0]*np.ones((1, n_each_user))\n",
    "    \n",
    "    for i in range(1, numberOfUsers):\n",
    "    # Movies\n",
    "        local_list_per_user_movies = ratings['movieId'][ratings['userId'] == users[i]].values\n",
    "        list_movies_each_user[i] = local_list_per_user_movies\n",
    "        list_movies = np.append(list_movies,local_list_per_user_movies)\n",
    "    # Ratings                                 \n",
    "        local_list_per_user_ratings = ratings['rating'][ratings['userId'] == users[i]].values\n",
    "        list_ratings_each_user[i] = local_list_per_user_ratings\n",
    "        list_ratings = np.append(list_ratings, local_list_per_user_ratings)  \n",
    "    # Users                                   \n",
    "        n_each_user = local_list_per_user_movies.shape[0]                                                                               \n",
    "        local_rep_user =  users[i]*np.ones((1, n_each_user))    \n",
    "        list_users = np.append(list_users, local_rep_user)\n",
    "\n",
    "    indexes_unique_movies = np.unique(list_movies)\n",
    "    n_movies = indexes_unique_movies.shape[0]\n",
    "    temp = np.empty((n_movies,numberOfUsers,))\n",
    "    temp[:] = np.nan\n",
    "    Y_with_NaNs = pd.DataFrame(temp)\n",
    "    \n",
    "    for i in range(numberOfUsers):\n",
    "        local_movies = list_movies_each_user[i]\n",
    "        ixs = np.in1d(indexes_unique_movies, local_movies)\n",
    "        Y_with_NaNs.loc[ixs, i] = list_ratings_each_user[i]\n",
    "    \n",
    "    Y_with_NaNs.index = indexes_unique_movies.tolist()\n",
    "    Y_with_NaNs.columns = users.tolist()\n",
    "    \n",
    "    p_list_ratings = np.concatenate(list_ratings_each_user).ravel()\n",
    "    p_list_ratings_original = p_list_ratings.tolist()\n",
    "    mean_ratings_train = np.mean(p_list_ratings)\n",
    "    p_list_ratings =  p_list_ratings - mean_ratings_train # remove the mean\n",
    "    p_list_movies = np.concatenate(list_movies_each_user).ravel().tolist()\n",
    "    p_list_users = list_users.tolist()\n",
    "    Y = pd.DataFrame({'users': p_list_users, 'movies': p_list_movies, 'ratingsorig': p_list_ratings_original,'ratings':p_list_ratings.tolist()})\n",
    "    return Y, n_movies, indexes_unique_movies\n",
    "\n",
    "np.random.seed(YourStudentID)\n",
    "indexes_users = np.random.permutation(n_users)\n",
    "users = indexes_users[0:610]\n",
    "\n",
    "YFullBatch, n_movies_full, uniqueMovies = getDataForAllUsers(610, users, ratings)\n",
    "UStochastFull = pd.DataFrame(np.random.normal(size = (610, 2))*0.001, index = users)\n",
    "VStochastFull = pd.DataFrame(np.random.normal(size = (n_movies_full, 2))*0.001, index = uniqueMovies)\n",
    "\n",
    "oldObjectiveFuncFull = 0\n",
    "nrowsFull = YFullBatch.shape[0]\n",
    "oldObjectiveFuncFull = objectiveFunctionForData(nrowsFull, YFullBatch, UStochastFull, VStochastFull)\n",
    "stochasticFunc_Observation(100000, 0.01, YFullBatch, UStochastFull, VStochastFull, nrowsFull, oldObjectiveFuncFull, 610)"
   ]
  },
  {
   "cell_type": "code",
   "execution_count": 20,
   "metadata": {},
   "outputs": [
    {
     "data": {
      "text/plain": [
       "[<matplotlib.lines.Line2D at 0x2891f61e898>]"
      ]
     },
     "execution_count": 20,
     "metadata": {},
     "output_type": "execute_result"
    },
    {
     "data": {
      "image/png": "[encoded data removed]",
      "text/plain": [
       "<Figure size 432x288 with 1 Axes>"
      ]
     },
     "metadata": {},
     "output_type": "display_data"
    }
   ],
   "source": [
    "import pylab as plt\n",
    "plt.plot(VStochastFull[0], VStochastFull[1], 'rx', label=\"Films\")\n",
    "plt.plot(UStochastFull[0], UStochastFull[1], 'bo', label=\"Users\")"
   ]
  },
  {
   "cell_type": "code",
   "execution_count": null,
   "metadata": {},
   "outputs": [],
   "source": []
  }
 ],
 "metadata": {
  "kernelspec": {
   "display_name": "Python 3",
   "language": "python",
   "name": "python3"
  },
  "language_info": {
   "codemirror_mode": {
    "name": "ipython",
    "version": 3
   },
   "file_extension": ".py",
   "mimetype": "text/x-python",
   "name": "python",
   "nbconvert_exporter": "python",
   "pygments_lexer": "ipython3",
   "version": "3.6.6"
  }
 },
 "nbformat": 4,
 "nbformat_minor": 1
}
